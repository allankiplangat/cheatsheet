{
 "cells": [
  {
   "cell_type": "markdown",
   "metadata": {},
   "source": [
    "Chatbots Building Blocks\n",
    "============\n",
    "\n",
    "## Concepts\n",
    "\n",
    " - **Agents** translate user requests to actionable data i.e **intents**\n",
    " - **Entities** help to extract information from user speech with the help of prompts\n",
    " - **User expression** are annotated to specify parameters which customize queries\n",
    " - **Smalltalk** helps make bots friendly and chatty with no additional code\n",
    " \n",
    " ## 1. Create an agent\n",
    " - A module which incooporates NLP to understand what the user meant\n",
    " - Transforms user request to actionable data and naps them to ab intent\n",
    " - Agents manage conversation flow with the user using intents, entities, contexts and other building blocks\n",
    " \n",
    "\n"
   ]
  },
  {
   "cell_type": "code",
   "execution_count": null,
   "metadata": {},
   "outputs": [],
   "source": []
  }
 ],
 "metadata": {
  "kernelspec": {
   "display_name": "Python 3",
   "language": "python",
   "name": "python3"
  },
  "language_info": {
   "codemirror_mode": {
    "name": "ipython",
    "version": 3
   },
   "file_extension": ".py",
   "mimetype": "text/x-python",
   "name": "python",
   "nbconvert_exporter": "python",
   "pygments_lexer": "ipython3",
   "version": "3.7.4"
  }
 },
 "nbformat": 4,
 "nbformat_minor": 2
}
