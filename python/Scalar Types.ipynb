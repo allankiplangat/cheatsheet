{
 "cells": [
  {
   "cell_type": "markdown",
   "metadata": {},
   "source": [
    "## Scalar types\n"
   ]
  },
  {
   "cell_type": "markdown",
   "metadata": {},
   "source": [
    "## Python Built in data types: \n",
    "- **Primitive** Scalar types\n",
    "- **Collection** Types\n",
    "        \n",
    "> **Basic Scalar types**:\n",
    "   - **Int** for whole numbers (Arbitrary precision integer)\n",
    "   - **Floats** for numbers with fractional parts (64-bit floatingpoint numbers)\n",
    "   - **None** placeholder value (The null object)\n",
    "   - **Bool** used for **True** and **False** values (boolean logical values)\n",
    "   \n",
    "- **Int**\n",
    "> Are **signed** (-ve, zero, +ve) & **unlimited precision**\n",
    "\n",
    "    - Integer Literals are specified in decimal\n",
    "    \n",
    "    - Can be specified in: \n",
    "       - binary with 0b prefix\n",
    "       - octal with 0o prefix\n",
    "       - Hexadecimal with 0x prefix \n",
    "  \n",
    "#### Creating Integers\n",
    "\n",
    "\n",
    "\n",
    "```python\n",
    "    # using the binary, octal and hexadecimal prefixes\n",
    "    In [1]: 10\n",
    "    Out[1]: 10\n",
    "\n",
    "    In [2]: 0b10\n",
    "    Out[2]: 2\n",
    "\n",
    "    In [3]: 0o10\n",
    "    Out[3]: 8\n",
    "\n",
    "    In [4]: 0x10\n",
    "    Out[4]: 16\n",
    "        \n",
    "    # Using the int() constructor\n",
    "```"
   ]
  },
  {
   "cell_type": "code",
   "execution_count": null,
   "metadata": {},
   "outputs": [],
   "source": []
  }
 ],
 "metadata": {
  "kernelspec": {
   "display_name": "Python 3",
   "language": "python",
   "name": "python3"
  },
  "language_info": {
   "codemirror_mode": {
    "name": "ipython",
    "version": 3
   },
   "file_extension": ".py",
   "mimetype": "text/x-python",
   "name": "python",
   "nbconvert_exporter": "python",
   "pygments_lexer": "ipython3",
   "version": "3.7.4"
  }
 },
 "nbformat": 4,
 "nbformat_minor": 2
}
