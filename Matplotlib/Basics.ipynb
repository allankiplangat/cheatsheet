{
 "cells": [
  {
   "cell_type": "code",
   "execution_count": 25,
   "metadata": {},
   "outputs": [],
   "source": [
    "import os"
   ]
  },
  {
   "cell_type": "code",
   "execution_count": null,
   "metadata": {},
   "outputs": [],
   "source": [
    "!pip install matplotlib"
   ]
  },
  {
   "cell_type": "code",
   "execution_count": 22,
   "metadata": {},
   "outputs": [],
   "source": [
    "import matplotlib"
   ]
  },
  {
   "cell_type": "code",
   "execution_count": 23,
   "metadata": {},
   "outputs": [
    {
     "name": "stdout",
     "output_type": "stream",
     "text": [
      "3.1.1\n"
     ]
    }
   ],
   "source": [
    "print(matplotlib.__version__)"
   ]
  },
  {
   "cell_type": "code",
   "execution_count": 24,
   "metadata": {},
   "outputs": [
    {
     "data": {
      "text/plain": [
       "True"
      ]
     },
     "execution_count": 24,
     "metadata": {},
     "output_type": "execute_result"
    }
   ],
   "source": [
    "matplotlib.is_interactive()"
   ]
  },
  {
   "cell_type": "code",
   "execution_count": 31,
   "metadata": {},
   "outputs": [
    {
     "data": {
      "text/plain": [
       "True"
      ]
     },
     "execution_count": 31,
     "metadata": {},
     "output_type": "execute_result"
    }
   ],
   "source": [
    "# Setting up the interactive modes\n",
    "matplotlib.interactive(True)\n",
    "matplotlib.is_interactive()"
   ]
  },
  {
   "cell_type": "code",
   "execution_count": 33,
   "metadata": {},
   "outputs": [],
   "source": [
    "import numpy as np\n",
    "import matplotlib as mpl\n",
    "import matplotlib.pyplot as plt\n",
    "from mpl_toolkits.mplot3d.axes3d import Axes3D"
   ]
  },
  {
   "cell_type": "code",
   "execution_count": 39,
   "metadata": {},
   "outputs": [
    {
     "data": {
      "text/plain": [
       "True"
      ]
     },
     "execution_count": 39,
     "metadata": {},
     "output_type": "execute_result"
    }
   ],
   "source": [
    "plt.ioff()\n",
    "mpl.is_interactive()\n",
    "mpl.interactive(True)\n",
    "mpl.is_interactive()"
   ]
  },
  {
   "cell_type": "code",
   "execution_count": 40,
   "metadata": {},
   "outputs": [],
   "source": [
    "x = np.linspace(-5, 2, 100)"
   ]
  },
  {
   "cell_type": "code",
   "execution_count": 41,
   "metadata": {},
   "outputs": [
    {
     "data": {
      "text/plain": [
       "array([-5.        , -4.92929293, -4.85858586, -4.78787879, -4.71717172,\n",
       "       -4.64646465, -4.57575758, -4.50505051, -4.43434343, -4.36363636,\n",
       "       -4.29292929, -4.22222222, -4.15151515, -4.08080808, -4.01010101,\n",
       "       -3.93939394, -3.86868687, -3.7979798 , -3.72727273, -3.65656566,\n",
       "       -3.58585859, -3.51515152, -3.44444444, -3.37373737, -3.3030303 ,\n",
       "       -3.23232323, -3.16161616, -3.09090909, -3.02020202, -2.94949495,\n",
       "       -2.87878788, -2.80808081, -2.73737374, -2.66666667, -2.5959596 ,\n",
       "       -2.52525253, -2.45454545, -2.38383838, -2.31313131, -2.24242424,\n",
       "       -2.17171717, -2.1010101 , -2.03030303, -1.95959596, -1.88888889,\n",
       "       -1.81818182, -1.74747475, -1.67676768, -1.60606061, -1.53535354,\n",
       "       -1.46464646, -1.39393939, -1.32323232, -1.25252525, -1.18181818,\n",
       "       -1.11111111, -1.04040404, -0.96969697, -0.8989899 , -0.82828283,\n",
       "       -0.75757576, -0.68686869, -0.61616162, -0.54545455, -0.47474747,\n",
       "       -0.4040404 , -0.33333333, -0.26262626, -0.19191919, -0.12121212,\n",
       "       -0.05050505,  0.02020202,  0.09090909,  0.16161616,  0.23232323,\n",
       "        0.3030303 ,  0.37373737,  0.44444444,  0.51515152,  0.58585859,\n",
       "        0.65656566,  0.72727273,  0.7979798 ,  0.86868687,  0.93939394,\n",
       "        1.01010101,  1.08080808,  1.15151515,  1.22222222,  1.29292929,\n",
       "        1.36363636,  1.43434343,  1.50505051,  1.57575758,  1.64646465,\n",
       "        1.71717172,  1.78787879,  1.85858586,  1.92929293,  2.        ])"
      ]
     },
     "execution_count": 41,
     "metadata": {},
     "output_type": "execute_result"
    }
   ],
   "source": [
    "x"
   ]
  },
  {
   "cell_type": "code",
   "execution_count": 42,
   "metadata": {},
   "outputs": [],
   "source": [
    "y1 = x**3 + 5*x**2 + 10\n",
    "y2 = 3*x**2 + 10*x\n",
    "y3 = 6*x + 10"
   ]
  },
  {
   "cell_type": "code",
   "execution_count": 43,
   "metadata": {},
   "outputs": [
    {
     "data": {
      "text/plain": [
       "array([10.        , 11.71803537, 13.33820194, 14.8626207 , 16.29341265,\n",
       "       17.63269879, 18.88260011, 20.0452376 , 21.12273227, 22.11720511,\n",
       "       23.03077711, 23.86556927, 24.62370259, 25.30729806, 25.91847668,\n",
       "       26.45935943, 26.93206733, 27.33872136, 27.68144252, 27.96235181,\n",
       "       28.18357022, 28.34721874, 28.45541838, 28.51029013, 28.51395498,\n",
       "       28.46853393, 28.37614797, 28.23891811, 28.05896533, 27.83841063,\n",
       "       27.57937502, 27.28397947, 26.954345  , 26.59259259, 26.20084325,\n",
       "       25.78121795, 25.33583772, 24.86682353, 24.37629638, 23.86637727,\n",
       "       23.3391872 , 22.79684716, 22.24147814, 21.67520115, 21.10013717,\n",
       "       20.51840721, 19.93213226, 19.34343331, 18.75443137, 18.16724742,\n",
       "       17.58400246, 17.00681749, 16.4378135 , 15.87911149, 15.33283246,\n",
       "       14.80109739, 14.2860273 , 13.78974316, 13.31436598, 12.86201676,\n",
       "       12.43481648, 12.03488615, 11.66434676, 11.32531931, 11.01992479,\n",
       "       10.75028419, 10.51851852, 10.32674877, 10.17709593, 10.071681  ,\n",
       "       10.01262497, 10.00204885, 10.04207363, 10.1348203 , 10.28240986,\n",
       "       10.4869633 , 10.75060162, 11.07544582, 11.46361689, 11.91723582,\n",
       "       12.43842362, 13.02930128, 13.69198979, 14.42861015, 15.24128336,\n",
       "       16.13213041, 17.10327229, 18.15683001, 19.29492455, 20.51967692,\n",
       "       21.83320811, 23.23763912, 24.73509094, 26.32768456, 28.01754098,\n",
       "       29.80678121, 31.69752623, 33.69189703, 35.79201463, 38.        ])"
      ]
     },
     "execution_count": 43,
     "metadata": {},
     "output_type": "execute_result"
    }
   ],
   "source": [
    "y1"
   ]
  },
  {
   "cell_type": "code",
   "execution_count": 44,
   "metadata": {},
   "outputs": [
    {
     "data": {
      "text/plain": [
       "array([25.        , 23.60085706, 22.23171105, 20.89256198, 19.58340986,\n",
       "       18.30425467, 17.05509642, 15.83593511, 14.64677074, 13.48760331,\n",
       "       12.35843281, 11.25925926, 10.19008264,  9.15090297,  8.14172023,\n",
       "        7.16253444,  6.21334558,  5.29415366,  4.40495868,  3.54576064,\n",
       "        2.71655953,  1.91735537,  1.14814815,  0.40893786, -0.30027548,\n",
       "       -0.97949189, -1.62871136, -2.24793388, -2.83715947, -3.39638812,\n",
       "       -3.92561983, -4.42485461, -4.89409244, -5.33333333, -5.74257729,\n",
       "       -6.1218243 , -6.47107438, -6.79032752, -7.07958372, -7.33884298,\n",
       "       -7.5681053 , -7.76737068, -7.93663912, -8.07591062, -8.18518519,\n",
       "       -8.26446281, -8.3137435 , -8.33302724, -8.32231405, -8.28160392,\n",
       "       -8.21089685, -8.11019284, -7.97949189, -7.818794  , -7.62809917,\n",
       "       -7.40740741, -7.1567187 , -6.87603306, -6.56535047, -6.22467095,\n",
       "       -5.85399449, -5.45332109, -5.02265075, -4.56198347, -4.07131925,\n",
       "       -3.5506581 , -3.        , -2.41934496, -1.80869299, -1.16804408,\n",
       "       -0.49739822,  0.20324457,  0.9338843 ,  1.69452097,  2.48515458,\n",
       "        3.30578512,  4.15641261,  5.03703704,  5.9476584 ,  6.88827671,\n",
       "        7.85889195,  8.85950413,  9.89011325, 10.95071931, 12.04132231,\n",
       "       13.16192225, 14.31251913, 15.49311295, 16.7037037 , 17.9442914 ,\n",
       "       19.21487603, 20.51545761, 21.84603612, 23.20661157, 24.59718396,\n",
       "       26.01775329, 27.46831956, 28.94888277, 30.45944291, 32.        ])"
      ]
     },
     "execution_count": 44,
     "metadata": {},
     "output_type": "execute_result"
    }
   ],
   "source": [
    "y2"
   ]
  },
  {
   "cell_type": "code",
   "execution_count": 45,
   "metadata": {},
   "outputs": [
    {
     "data": {
      "text/plain": [
       "array([-20.        , -19.57575758, -19.15151515, -18.72727273,\n",
       "       -18.3030303 , -17.87878788, -17.45454545, -17.03030303,\n",
       "       -16.60606061, -16.18181818, -15.75757576, -15.33333333,\n",
       "       -14.90909091, -14.48484848, -14.06060606, -13.63636364,\n",
       "       -13.21212121, -12.78787879, -12.36363636, -11.93939394,\n",
       "       -11.51515152, -11.09090909, -10.66666667, -10.24242424,\n",
       "        -9.81818182,  -9.39393939,  -8.96969697,  -8.54545455,\n",
       "        -8.12121212,  -7.6969697 ,  -7.27272727,  -6.84848485,\n",
       "        -6.42424242,  -6.        ,  -5.57575758,  -5.15151515,\n",
       "        -4.72727273,  -4.3030303 ,  -3.87878788,  -3.45454545,\n",
       "        -3.03030303,  -2.60606061,  -2.18181818,  -1.75757576,\n",
       "        -1.33333333,  -0.90909091,  -0.48484848,  -0.06060606,\n",
       "         0.36363636,   0.78787879,   1.21212121,   1.63636364,\n",
       "         2.06060606,   2.48484848,   2.90909091,   3.33333333,\n",
       "         3.75757576,   4.18181818,   4.60606061,   5.03030303,\n",
       "         5.45454545,   5.87878788,   6.3030303 ,   6.72727273,\n",
       "         7.15151515,   7.57575758,   8.        ,   8.42424242,\n",
       "         8.84848485,   9.27272727,   9.6969697 ,  10.12121212,\n",
       "        10.54545455,  10.96969697,  11.39393939,  11.81818182,\n",
       "        12.24242424,  12.66666667,  13.09090909,  13.51515152,\n",
       "        13.93939394,  14.36363636,  14.78787879,  15.21212121,\n",
       "        15.63636364,  16.06060606,  16.48484848,  16.90909091,\n",
       "        17.33333333,  17.75757576,  18.18181818,  18.60606061,\n",
       "        19.03030303,  19.45454545,  19.87878788,  20.3030303 ,\n",
       "        20.72727273,  21.15151515,  21.57575758,  22.        ])"
      ]
     },
     "execution_count": 45,
     "metadata": {},
     "output_type": "execute_result"
    }
   ],
   "source": [
    "y3"
   ]
  },
  {
   "cell_type": "code",
   "execution_count": 46,
   "metadata": {},
   "outputs": [
    {
     "data": {
      "image/png": "[encoded data removed]",
      "text/plain": [
       "<Figure size 432x288 with 1 Axes>"
      ]
     },
     "metadata": {
      "needs_background": "light"
     },
     "output_type": "display_data"
    }
   ],
   "source": [
    "fig, ax = plt.subplots()"
   ]
  },
  {
   "cell_type": "code",
   "execution_count": 54,
   "metadata": {},
   "outputs": [],
   "source": [
    "mpl.interactive(True)"
   ]
  },
  {
   "cell_type": "code",
   "execution_count": 55,
   "metadata": {},
   "outputs": [
    {
     "data": {
      "text/plain": [
       "<matplotlib.legend.Legend at 0x24bfd035a08>"
      ]
     },
     "execution_count": 55,
     "metadata": {},
     "output_type": "execute_result"
    }
   ],
   "source": [
    "%matplotlib inline\n",
    "ax.plot(x, y1, color=\"blue\", label=\"y(x)\")\n",
    "ax.plot(x, y2, color=\"red\", label=\"y'(x)\")\n",
    "ax.plot(x, y3, color=\"green\", label=\"y”(x)\")\n",
    "ax.set_xlabel(\"x\")\n",
    "ax.set_ylabel(\"y\")\n",
    "ax.legend()"
   ]
  },
  {
   "cell_type": "code",
   "execution_count": 56,
   "metadata": {},
   "outputs": [],
   "source": [
    "plt.show()"
   ]
  },
  {
   "cell_type": "code",
   "execution_count": null,
   "metadata": {},
   "outputs": [],
   "source": []
  }
 ],
 "metadata": {
  "kernelspec": {
   "display_name": "Python 3",
   "language": "python",
   "name": "python3"
  },
  "language_info": {
   "codemirror_mode": {
    "name": "ipython",
    "version": 3
   },
   "file_extension": ".py",
   "mimetype": "text/x-python",
   "name": "python",
   "nbconvert_exporter": "python",
   "pygments_lexer": "ipython3",
   "version": "3.7.4"
  }
 },
 "nbformat": 4,
 "nbformat_minor": 2
}
