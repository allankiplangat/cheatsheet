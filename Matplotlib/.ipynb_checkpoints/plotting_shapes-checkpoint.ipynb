{
 "cells": [
  {
   "cell_type": "markdown",
   "metadata": {},
   "source": [
    "## Drawing shapes with the patches module"
   ]
  },
  {
   "cell_type": "code",
   "execution_count": 1,
   "metadata": {},
   "outputs": [
    {
     "data": {
      "text/plain": [
       "True"
      ]
     },
     "execution_count": 1,
     "metadata": {},
     "output_type": "execute_result"
    }
   ],
   "source": [
    "import matplotlib as mpl\n",
    "import matplotlib.pyplot as plt\n",
    "import matplotlib.patches as patches\n",
    "\n",
    "mpl.interactive(True)\n",
    "plt.ion()\n",
    "mpl.is_interactive()"
   ]
  },
  {
   "cell_type": "code",
   "execution_count": 8,
   "metadata": {},
   "outputs": [
    {
     "data": {
      "image/png": "[encoded data removed]",
      "text/plain": [
       "<Figure size 432x288 with 1 Axes>"
      ]
     },
     "metadata": {
      "needs_background": "light"
     },
     "output_type": "display_data"
    }
   ],
   "source": [
    " \"\"\"\n",
    "     A patch in Matplotlib represents 2D objects\n",
    "     \n",
    "     Arguments: Same as the one used to specify an axis within a figure: we specify a fraction of the axis as\n",
    "     - left edge of the rectangle and the bottom edge of the rectangle (0.1)\n",
    "     - width of the rectangle -> 0.5 in relation to axis as a whole \n",
    "     - fractional height of the recatngle in relation to the axis as a whole (0.5)\n",
    "     - By default fill=False\n",
    "     \n",
    "     \n",
    " \"\"\"\n",
    "\n",
    "fig, ax = plt.subplots()\n",
    "# Seting the aspect ratio x -axis usually appear longer than Y-axis\n",
    "# ax.set_aspect(aspect='equal')\n",
    "\n",
    "ax.add_patch(patches.Rectangle(\n",
    "    (0.1, 0.1),\n",
    "    0.5,\n",
    "    0.5,\n",
    "    facecolor='yellow',\n",
    "    edgecolor='green',\n",
    "    #fill=False,\n",
    "))\n",
    "plt.show()"
   ]
  },
  {
   "cell_type": "code",
   "execution_count": 21,
   "metadata": {},
   "outputs": [
    {
     "data": {
      "image/png": "[encoded data removed]",
      "text/plain": [
       "<Figure size 432x288 with 1 Axes>"
      ]
     },
     "metadata": {
      "needs_background": "light"
     },
     "output_type": "display_data"
    }
   ],
   "source": [
    "\"\"\"\n",
    "    Drawing the shapes with a little design\n",
    "    use the hatch attribute that sets pattern with which to fill a patch\n",
    "\"\"\"\n",
    "fig, ax = plt.subplots()\n",
    "# ax.set_aspect(aspect='equal')\n",
    "for p in [\n",
    "    patches.Rectangle(\n",
    "        (0.1, 0.1), 0.3, 0.6, \n",
    "        hatch='.'\n",
    "    ),\n",
    "    patches.Rectangle(\n",
    "    (0.5, 0.1), 0.3, 0.6,\n",
    "    hatch='\\\\',\n",
    "    fill=False\n",
    "    \n",
    "    ),\n",
    "]:\n",
    "    ax.add_patch(p)\n",
    "\n",
    "plt.show()"
   ]
  },
  {
   "cell_type": "code",
   "execution_count": 27,
   "metadata": {
    "scrolled": true
   },
   "outputs": [
    {
     "data": {
      "image/png": "[encoded data removed]",
      "text/plain": [
       "<Figure size 432x288 with 1 Axes>"
      ]
     },
     "metadata": {
      "needs_background": "light"
     },
     "output_type": "display_data"
    }
   ],
   "source": [
    "\"\"\"\n",
    "    Add 4 rectangles with different degrees of transparency\n",
    "    The 4th rectangle did not fit coz this patch did not fit in the figure as its left side is on the extreme \n",
    "    right of the figure\n",
    "    \n",
    "    Extend the limit of the axex sit set_xlim\n",
    "\"\"\"\n",
    "\n",
    "fig, ax = plt.subplots()\n",
    "#ax.set_aspect(aspect='equal')\n",
    "\n",
    "for p in [\n",
    "    patches.Rectangle(\n",
    "        (0.1, 0.1), 0.2, 0.6, \n",
    "        alpha=None\n",
    "        \n",
    "    ),\n",
    "    patches.Rectangle(\n",
    "    (0.4, 0.1), 0.2, 0.6,\n",
    "    alpha=1.0\n",
    "    ),\n",
    "    patches.Rectangle(\n",
    "    (0.7, 0.1), 0.2, 0.6,\n",
    "    alpha=0.6\n",
    "    ),\n",
    "    patches.Rectangle(\n",
    "    (1.0, 0.1), 0.2, 0.6,\n",
    "    alpha=0.1\n",
    "    ),\n",
    "]:\n",
    "    ax.add_patch(p)\n",
    "    ax.set_xlim(0, 1.5)\n",
    "\n",
    "plt.show()"
   ]
  },
  {
   "cell_type": "code",
   "execution_count": 29,
   "metadata": {},
   "outputs": [
    {
     "data": {
      "image/png": "[encoded data removed]",
      "text/plain": [
       "<Figure size 432x288 with 1 Axes>"
      ]
     },
     "metadata": {
      "needs_background": "light"
     },
     "output_type": "display_data"
    }
   ],
   "source": [
    "\"\"\"\n",
    "    Different ways to specify the color with the facecolor\n",
    "    \n",
    "    By default matplotlib picks colors in a sequence from the default color palette the first color \n",
    "    in this pallette is blue\n",
    "\"\"\"\n",
    "\n",
    "fig, ax = plt.subplots()\n",
    "#ax.set_aspect(aspect='equal')\n",
    "\n",
    "for p in [\n",
    "    patches.Rectangle(\n",
    "        (0.1, 0.1), 0.2, 0.6, \n",
    "        facecolor=None\n",
    "        \n",
    "    ),\n",
    "    patches.Rectangle(\n",
    "    (0.4, 0.1), 0.2, 0.6,\n",
    "    facecolor='none'\n",
    "    ),\n",
    "    patches.Rectangle(\n",
    "    (0.7, 0.1), 0.2, 0.6,\n",
    "    facecolor='red'\n",
    "    ),\n",
    "    patches.Rectangle(\n",
    "    (1.0, 0.1), 0.2, 0.6,\n",
    "    facecolor='#00ffff'\n",
    "    ),\n",
    "]:\n",
    "    ax.add_patch(p)\n",
    "    ax.set_xlim(0, 1.5)\n",
    "\n",
    "plt.show()"
   ]
  },
  {
   "cell_type": "code",
   "execution_count": 31,
   "metadata": {},
   "outputs": [
    {
     "data": {
      "image/png": "[encoded data removed]",
      "text/plain": [
       "<Figure size 432x288 with 1 Axes>"
      ]
     },
     "metadata": {
      "needs_background": "light"
     },
     "output_type": "display_data"
    }
   ],
   "source": [
    "\"\"\"\n",
    "    We can also leave the shapes hollow and format the edges\n",
    "    \n",
    "    use of the edgecolor\n",
    "\"\"\"\n",
    "fig, ax = plt.subplots()\n",
    "#ax.set_aspect(aspect='equal')\n",
    "\n",
    "for p in [\n",
    "    patches.Rectangle(\n",
    "        (0.1, 0.1), 0.2, 0.6, fill=False, \n",
    "        edgecolor=None\n",
    "        \n",
    "    ),\n",
    "    patches.Rectangle(\n",
    "    (0.4, 0.1), 0.2, 0.6, fill=False,\n",
    "    edgecolor='none'\n",
    "    ),\n",
    "    patches.Rectangle(\n",
    "    (0.7, 0.1), 0.2, 0.6, fill=False,\n",
    "    edgecolor='red'\n",
    "    ),\n",
    "    patches.Rectangle(\n",
    "    (1.0, 0.1), 0.2, 0.6, fill=False,\n",
    "    edgecolor='#00ffff'\n",
    "    ),\n",
    "]:\n",
    "    ax.add_patch(p)\n",
    "    ax.set_xlim(0, 1.5)\n",
    "\n",
    "plt.show()\n",
    "\n"
   ]
  },
  {
   "cell_type": "code",
   "execution_count": 32,
   "metadata": {},
   "outputs": [
    {
     "data": {
      "image/png": "[encoded data removed]",
      "text/plain": [
       "<Figure size 432x288 with 1 Axes>"
      ]
     },
     "metadata": {
      "needs_background": "light"
     },
     "output_type": "display_data"
    }
   ],
   "source": [
    "\"\"\"\n",
    "    When using the patch module the edges can be treated as lines and formatted\n",
    "    accordingly\n",
    "    with linestyle\n",
    "\"\"\"\n",
    "fig, ax = plt.subplots()\n",
    "#ax.set_aspect(aspect='equal')\n",
    "\n",
    "for p in [\n",
    "    patches.Rectangle(\n",
    "        (0.1, 0.1), 0.2, 0.6, fill=False, \n",
    "        linestyle='solid'\n",
    "        \n",
    "    ),\n",
    "    patches.Rectangle(\n",
    "    (0.4, 0.1), 0.2, 0.6, fill=False,\n",
    "    linestyle='dashed'\n",
    "    ),\n",
    "    patches.Rectangle(\n",
    "    (0.7, 0.1), 0.2, 0.6, fill=False,\n",
    "    linestyle='dashdot'\n",
    "    ),\n",
    "    patches.Rectangle(\n",
    "    (1.0, 0.1), 0.2, 0.6, fill=False,\n",
    "    linestyle='dotted'\n",
    "    ),\n",
    "]:\n",
    "    ax.add_patch(p)\n",
    "    ax.set_xlim(0, 1.5)\n",
    "\n",
    "plt.show()\n",
    "\n"
   ]
  },
  {
   "cell_type": "code",
   "execution_count": 33,
   "metadata": {},
   "outputs": [
    {
     "data": {
      "image/png": "[encoded data removed]",
      "text/plain": [
       "<Figure size 432x288 with 1 Axes>"
      ]
     },
     "metadata": {
      "needs_background": "light"
     },
     "output_type": "display_data"
    }
   ],
   "source": [
    "\"\"\"\n",
    "    Patch object- Circle are another type of patch object\n",
    "    \n",
    "    Arguments ->\n",
    "    1st - tuple of x-cordinates as a fraction of the width\n",
    "    2nd - Y cordinate as a fraction of the height\n",
    "    \n",
    "    2nd argument - radius\n",
    "    \n",
    "\"\"\"\n",
    "fig, ax = plt.subplots()\n",
    "ax.set_aspect(aspect='equal')\n",
    "\n",
    "for p in [\n",
    "    patches.Circle(\n",
    "    (0.1, 0.4), 0.1,\n",
    "    hatch='/'\n",
    "    ),\n",
    "    patches.Circle(\n",
    "    (0.5, 0.4), 0.1,\n",
    "    hatch='*',\n",
    "    facecolor='red'\n",
    "    ),\n",
    "    patches.Circle(\n",
    "    (0.9, 0.4), 0.1,\n",
    "    hatch='\\\\',\n",
    "    facecolor='green'\n",
    "    ),\n",
    "    patches.Circle(\n",
    "    (0.5, 0.7), 0.1,\n",
    "    hatch='//',\n",
    "    fill=False\n",
    "    ),\n",
    "]:\n",
    "    ax.add_patch(p)\n",
    "plt.show()"
   ]
  },
  {
   "cell_type": "code",
   "execution_count": null,
   "metadata": {},
   "outputs": [],
   "source": [
    "\"\"\"\n",
    "    Polygon class\n",
    "    \n",
    "\"\"\"\n",
    "\n",
    "fig, ax = plt.subplots()\n",
    "# ax.set_aspect(aspect='equal')\n",
    "polygon = patches.Polygon([[0.1, 0.1],\n",
    "                          [0.2, 0.8],\n",
    "                          [0.5,0.7],\n",
    "                          [0.8, 0.1],\n",
    "                          [0.4,0.3]],\n",
    "                         fill=False)"
   ]
  }
 ],
 "metadata": {
  "kernelspec": {
   "display_name": "Python 3",
   "language": "python",
   "name": "python3"
  },
  "language_info": {
   "codemirror_mode": {
    "name": "ipython",
    "version": 3
   },
   "file_extension": ".py",
   "mimetype": "text/x-python",
   "name": "python",
   "nbconvert_exporter": "python",
   "pygments_lexer": "ipython3",
   "version": "3.7.4"
  }
 },
 "nbformat": 4,
 "nbformat_minor": 2
}
