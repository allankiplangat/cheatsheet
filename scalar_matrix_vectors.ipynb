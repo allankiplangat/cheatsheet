{
 "cells": [
  {
   "cell_type": "markdown",
   "metadata": {},
   "source": [
    " ## Linear Algebra Using R\n",
    " \n",
    "#### Scalars Vectors and Matrices\n",
    " \n",
    " * **Scalar:** a constant  **3, 7, 10**\n",
    " * **Vector** a single row or column of numbers  \n",
    " * **Matrix** a rectangular collection of numbers\n",
    " \n",
    "#### Dimensions\n",
    "\n",
    "- The *dimensions* of a matrix refer to the number of *rows* and *columns*\n",
    "- An **_r_** x **_c_** matrix has *r* rows and *c* columns\n",
    "- The **m<sub>ij</sub>** element is at row *i* and column *j* \n",
    "- **Vector** Are represented as a single row or column\n",
    "- Vectors are a subset of matrices\n",
    "- Vectors are matrices with dimensions of **_1 x c_** (row vector) or **_r x 1_** (A column vector)\n",
    "\n",
    "#### Vectors in space\n",
    "\n",
    "- **Vectors** are also used to represent a location in space on a cordinate grid. **_n-space_**\n",
    "![alt text](images/vector_in_space.png)"
   ]
  },
  {
   "cell_type": "markdown",
   "metadata": {},
   "source": [
    "###  Defining a vector "
   ]
  },
  {
   "cell_type": "code",
   "execution_count": 30,
   "metadata": {},
   "outputs": [
    {
     "name": "stdout",
     "output_type": "stream",
     "text": [
      " num [1:4] 2 3 4 5\n"
     ]
    }
   ],
   "source": [
    "# Using the c() function\n",
    "v1 <- c(2,3,4,5)\n",
    "\n",
    "# Structure of v1\n",
    "str(v1)"
   ]
  },
  {
   "cell_type": "code",
   "execution_count": 31,
   "metadata": {},
   "outputs": [
    {
     "name": "stdout",
     "output_type": "stream",
     "text": [
      " int [1:4] 2 3 4 5\n"
     ]
    }
   ],
   "source": [
    "# Using the column operator\n",
    "v2 <- 2:5\n",
    "str(v2)"
   ]
  },
  {
   "cell_type": "code",
   "execution_count": 32,
   "metadata": {},
   "outputs": [
    {
     "name": "stdout",
     "output_type": "stream",
     "text": [
      " num [1:4] 2 3 4 5\n"
     ]
    }
   ],
   "source": [
    "# Using the sequence function : a long form version of the ':' operator\n",
    "v3 <- seq(from =2, to = 5, by =1)\n",
    "# v3 <- seq(2, 5, 1)\n",
    "str(v3)"
   ]
  },
  {
   "cell_type": "code",
   "execution_count": 33,
   "metadata": {},
   "outputs": [
    {
     "name": "stdout",
     "output_type": "stream",
     "text": [
      " num [1:5] 37 37 37 37 37\n"
     ]
    }
   ],
   "source": [
    "# Using the rep function\n",
    "v4 <- rep(37, 5)\n",
    "str(v4)"
   ]
  },
  {
   "cell_type": "markdown",
   "metadata": {},
   "source": [
    "###  Defining a matrix"
   ]
  },
  {
   "cell_type": "code",
   "execution_count": 34,
   "metadata": {},
   "outputs": [
    {
     "name": "stdout",
     "output_type": "stream",
     "text": [
      " num [1:2, 1:3] 1 4 2 5 3 6\n"
     ]
    },
    {
     "data": {
      "text/html": [
       "<table>\n",
       "<tbody>\n",
       "\t<tr><td>1</td><td>2</td><td>3</td></tr>\n",
       "\t<tr><td>4</td><td>5</td><td>6</td></tr>\n",
       "</tbody>\n",
       "</table>\n"
      ],
      "text/latex": [
       "\\begin{tabular}{lll}\n",
       "\t 1 & 2 & 3\\\\\n",
       "\t 4 & 5 & 6\\\\\n",
       "\\end{tabular}\n"
      ],
      "text/markdown": [
       "\n",
       "| 1 | 2 | 3 |\n",
       "| 4 | 5 | 6 |\n",
       "\n"
      ],
      "text/plain": [
       "     [,1] [,2] [,3]\n",
       "[1,] 1    2    3   \n",
       "[2,] 4    5    6   "
      ]
     },
     "metadata": {},
     "output_type": "display_data"
    }
   ],
   "source": [
    "# Using the matrix() function\n",
    "m1 <- matrix(c(1,2,3,4,5,6), nrow = 2, ncol = 3, byrow = TRUE)\n",
    "str(m1)\n",
    "m1"
   ]
  },
  {
   "cell_type": "code",
   "execution_count": 35,
   "metadata": {},
   "outputs": [
    {
     "name": "stdout",
     "output_type": "stream",
     "text": [
      " num [1:2, 1:3] 1 4 2 5 3 6\n"
     ]
    },
    {
     "data": {
      "text/html": [
       "<table>\n",
       "<tbody>\n",
       "\t<tr><td>1</td><td>2</td><td>3</td></tr>\n",
       "\t<tr><td>4</td><td>5</td><td>6</td></tr>\n",
       "</tbody>\n",
       "</table>\n"
      ],
      "text/latex": [
       "\\begin{tabular}{lll}\n",
       "\t 1 & 2 & 3\\\\\n",
       "\t 4 & 5 & 6\\\\\n",
       "\\end{tabular}\n"
      ],
      "text/markdown": [
       "\n",
       "| 1 | 2 | 3 |\n",
       "| 4 | 5 | 6 |\n",
       "\n"
      ],
      "text/plain": [
       "     [,1] [,2] [,3]\n",
       "[1,] 1    2    3   \n",
       "[2,] 4    5    6   "
      ]
     },
     "metadata": {},
     "output_type": "display_data"
    }
   ],
   "source": [
    "# Using the rbind() row bind (bind rows together)\n",
    "m2 <- rbind(c(1,2,3), c(4, 5, 6))\n",
    "str(m2)\n",
    "m2"
   ]
  },
  {
   "cell_type": "code",
   "execution_count": 36,
   "metadata": {},
   "outputs": [
    {
     "name": "stdout",
     "output_type": "stream",
     "text": [
      " num [1:2, 1:3] 1 4 2 5 3 6\n"
     ]
    },
    {
     "data": {
      "text/html": [
       "<table>\n",
       "<tbody>\n",
       "\t<tr><td>1</td><td>2</td><td>3</td></tr>\n",
       "\t<tr><td>4</td><td>5</td><td>6</td></tr>\n",
       "</tbody>\n",
       "</table>\n"
      ],
      "text/latex": [
       "\\begin{tabular}{lll}\n",
       "\t 1 & 2 & 3\\\\\n",
       "\t 4 & 5 & 6\\\\\n",
       "\\end{tabular}\n"
      ],
      "text/markdown": [
       "\n",
       "| 1 | 2 | 3 |\n",
       "| 4 | 5 | 6 |\n",
       "\n"
      ],
      "text/plain": [
       "     [,1] [,2] [,3]\n",
       "[1,] 1    2    3   \n",
       "[2,] 4    5    6   "
      ]
     },
     "metadata": {},
     "output_type": "display_data"
    }
   ],
   "source": [
    "# Using column  binding \n",
    "m3 <- cbind(c(1,4), c(2, 5), c(3, 6))\n",
    "str(m3)\n",
    "m3"
   ]
  },
  {
   "cell_type": "markdown",
   "metadata": {},
   "source": [
    "###  Plots in 2- D and 3-D"
   ]
  },
  {
   "cell_type": "code",
   "execution_count": 51,
   "metadata": {
    "scrolled": true
   },
   "outputs": [
    {
     "data": {
      "image/png": "[encoded data removed]",
      "text/plain": [
       "plot without title"
      ]
     },
     "metadata": {},
     "output_type": "display_data"
    }
   ],
   "source": [
    "# Vector in 2-space\n",
    "u1 <- c(2,2)\n",
    "plot(u1[1], u1[2], type = 'p', col = 'red', xlim = c(0,4), ylim = c(0,4), xlab=\"\", ylab=\"\")\n",
    "arrows(x0 =0, y0 =0, x1 = u1[1], y1=u1[2], lwd = 2)"
   ]
  },
  {
   "cell_type": "code",
   "execution_count": 52,
   "metadata": {},
   "outputs": [
    {
     "name": "stderr",
     "output_type": "stream",
     "text": [
      "Warning message:\n",
      "\"package 'plot3D' was built under R version 3.6.2\""
     ]
    },
    {
     "ename": "ERROR",
     "evalue": "Error in point3D(x = u2[1], y = u2[2], z = u2[3], col = \"red\", xlim = c(0, : could not find function \"point3D\"\n",
     "output_type": "error",
     "traceback": [
      "Error in point3D(x = u2[1], y = u2[2], z = u2[3], col = \"red\", xlim = c(0, : could not find function \"point3D\"\nTraceback:\n"
     ]
    }
   ],
   "source": [
    "# Vector in 3-space\n",
    "library(plot3D)\n",
    "u2 <- c(2, 3, 4)\n",
    "point3D(x=u2[1], y=u2[2], z=u2[3], col = 'red', xlim = c(0,5), ylim = c(0,5), zlim = c(0,5))"
   ]
  }
 ],
 "metadata": {
  "kernelspec": {
   "display_name": "R",
   "language": "R",
   "name": "ir"
  },
  "language_info": {
   "codemirror_mode": "r",
   "file_extension": ".r",
   "mimetype": "text/x-r-source",
   "name": "R",
   "pygments_lexer": "r",
   "version": "3.6.1"
  }
 },
 "nbformat": 4,
 "nbformat_minor": 4
}
